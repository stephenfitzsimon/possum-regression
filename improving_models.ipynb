{
 "cells": [
  {
   "cell_type": "markdown",
   "id": "c7a86124-47b1-4b48-a89e-c34048b8fc37",
   "metadata": {},
   "source": [
    "# Improving the Possum Classification Models"
   ]
  },
  {
   "cell_type": "code",
   "execution_count": 1,
   "id": "21fccc0f-3135-4d1f-a928-68b090bef60c",
   "metadata": {},
   "outputs": [],
   "source": [
    "import pandas as pd\n",
    "import numpy as np\n",
    "import matplotlib.pyplot as plt\n",
    "import seaborn as sns\n",
    "\n",
    "#sci kit functions used\n",
    "from sklearn.model_selection import train_test_split\n",
    "from sklearn.preprocessing import StandardScaler\n",
    "from sklearn.pipeline import make_pipeline\n",
    "from sklearn.feature_selection import SelectFromModel\n",
    "from sklearn.model_selection import StratifiedKFold\n",
    "\n",
    "# models used\n",
    "import sklearn.neighbors as neigh\n",
    "from sklearn.ensemble import RandomForestClassifier\n",
    "from sklearn.linear_model import LogisticRegression\n",
    "\n",
    "import acquire\n",
    "import prepare\n",
    "import model_target_sex\n",
    "\n",
    "RANDOM_SEED = prepare.RAND_SEED\n",
    "MODEL_COLUMNS = model_target_sex.MODEL_STRATEGY_DICTIONARY['measurement_only']"
   ]
  },
  {
   "cell_type": "markdown",
   "id": "bde32f1c-9967-47f5-8827-612c5d5c964c",
   "metadata": {
    "tags": []
   },
   "source": [
    "## Rebuilding the orignal data set\n",
    "\n",
    "Note that `total_length` is a calculated column."
   ]
  },
  {
   "cell_type": "code",
   "execution_count": 2,
   "id": "9da8268d-4bd9-4ed5-a0a2-508c8933b225",
   "metadata": {},
   "outputs": [],
   "source": [
    "#get only the measurement columns with the id column and the target column\n",
    "df = acquire.make_dataset()\n",
    "df = model_target_sex.make_modeling_columns(df)\n",
    "df = df[['case', 'sex'] + MODEL_COLUMNS]"
   ]
  },
  {
   "cell_type": "code",
   "execution_count": 3,
   "id": "69fc461e-e2d8-4cc7-b330-c119a53d2514",
   "metadata": {},
   "outputs": [
    {
     "data": {
      "text/html": [
       "<div>\n",
       "<style scoped>\n",
       "    .dataframe tbody tr th:only-of-type {\n",
       "        vertical-align: middle;\n",
       "    }\n",
       "\n",
       "    .dataframe tbody tr th {\n",
       "        vertical-align: top;\n",
       "    }\n",
       "\n",
       "    .dataframe thead th {\n",
       "        text-align: right;\n",
       "    }\n",
       "</style>\n",
       "<table border=\"1\" class=\"dataframe\">\n",
       "  <thead>\n",
       "    <tr style=\"text-align: right;\">\n",
       "      <th></th>\n",
       "      <th>case</th>\n",
       "      <th>sex</th>\n",
       "      <th>total_length</th>\n",
       "      <th>body_length</th>\n",
       "      <th>tail_length</th>\n",
       "      <th>head_length</th>\n",
       "      <th>skull_width</th>\n",
       "      <th>foot_length</th>\n",
       "      <th>eye_width</th>\n",
       "      <th>chest_girth</th>\n",
       "      <th>belly_girth</th>\n",
       "      <th>ear_length</th>\n",
       "    </tr>\n",
       "  </thead>\n",
       "  <tbody>\n",
       "    <tr>\n",
       "      <th>38</th>\n",
       "      <td>39</td>\n",
       "      <td>female</td>\n",
       "      <td>750.0</td>\n",
       "      <td>325.3</td>\n",
       "      <td>340.0</td>\n",
       "      <td>84.7</td>\n",
       "      <td>51.5</td>\n",
       "      <td>68.7</td>\n",
       "      <td>13.0</td>\n",
       "      <td>250.0</td>\n",
       "      <td>250.0</td>\n",
       "      <td>53.4</td>\n",
       "    </tr>\n",
       "    <tr>\n",
       "      <th>96</th>\n",
       "      <td>97</td>\n",
       "      <td>male</td>\n",
       "      <td>860.0</td>\n",
       "      <td>389.0</td>\n",
       "      <td>380.0</td>\n",
       "      <td>91.0</td>\n",
       "      <td>53.1</td>\n",
       "      <td>63.8</td>\n",
       "      <td>14.5</td>\n",
       "      <td>250.0</td>\n",
       "      <td>315.0</td>\n",
       "      <td>46.0</td>\n",
       "    </tr>\n",
       "    <tr>\n",
       "      <th>102</th>\n",
       "      <td>103</td>\n",
       "      <td>male</td>\n",
       "      <td>825.0</td>\n",
       "      <td>368.5</td>\n",
       "      <td>365.0</td>\n",
       "      <td>91.5</td>\n",
       "      <td>55.2</td>\n",
       "      <td>62.9</td>\n",
       "      <td>15.4</td>\n",
       "      <td>250.0</td>\n",
       "      <td>290.0</td>\n",
       "      <td>45.9</td>\n",
       "    </tr>\n",
       "  </tbody>\n",
       "</table>\n",
       "</div>"
      ],
      "text/plain": [
       "     case     sex  total_length  body_length  tail_length  head_length  \\\n",
       "38     39  female         750.0        325.3        340.0         84.7   \n",
       "96     97    male         860.0        389.0        380.0         91.0   \n",
       "102   103    male         825.0        368.5        365.0         91.5   \n",
       "\n",
       "     skull_width  foot_length  eye_width  chest_girth  belly_girth  ear_length  \n",
       "38          51.5         68.7       13.0        250.0        250.0        53.4  \n",
       "96          53.1         63.8       14.5        250.0        315.0        46.0  \n",
       "102         55.2         62.9       15.4        250.0        290.0        45.9  "
      ]
     },
     "execution_count": 3,
     "metadata": {},
     "output_type": "execute_result"
    }
   ],
   "source": [
    "df.sample(3)"
   ]
  },
  {
   "cell_type": "markdown",
   "id": "509f1656-2b9a-4a6c-aa6d-2bdfafce70a2",
   "metadata": {},
   "source": [
    "## Rebuilding the original train sets"
   ]
  },
  {
   "cell_type": "code",
   "execution_count": 4,
   "id": "2c3f8f55-af4c-40fe-ba39-5f966135f1ab",
   "metadata": {},
   "outputs": [
    {
     "data": {
      "text/html": [
       "<div>\n",
       "<style scoped>\n",
       "    .dataframe tbody tr th:only-of-type {\n",
       "        vertical-align: middle;\n",
       "    }\n",
       "\n",
       "    .dataframe tbody tr th {\n",
       "        vertical-align: top;\n",
       "    }\n",
       "\n",
       "    .dataframe thead th {\n",
       "        text-align: right;\n",
       "    }\n",
       "</style>\n",
       "<table border=\"1\" class=\"dataframe\">\n",
       "  <thead>\n",
       "    <tr style=\"text-align: right;\">\n",
       "      <th></th>\n",
       "      <th>dataset</th>\n",
       "      <th>proportion_male</th>\n",
       "      <th>proportion_female</th>\n",
       "      <th>total_male</th>\n",
       "      <th>total_female</th>\n",
       "    </tr>\n",
       "  </thead>\n",
       "  <tbody>\n",
       "    <tr>\n",
       "      <th>0</th>\n",
       "      <td>train</td>\n",
       "      <td>0.585714</td>\n",
       "      <td>0.414286</td>\n",
       "      <td>41</td>\n",
       "      <td>29</td>\n",
       "    </tr>\n",
       "    <tr>\n",
       "      <th>1</th>\n",
       "      <td>validate</td>\n",
       "      <td>0.571429</td>\n",
       "      <td>0.428571</td>\n",
       "      <td>20</td>\n",
       "      <td>15</td>\n",
       "    </tr>\n",
       "    <tr>\n",
       "      <th>2</th>\n",
       "      <td>test</td>\n",
       "      <td>0.600000</td>\n",
       "      <td>0.400000</td>\n",
       "      <td>21</td>\n",
       "      <td>14</td>\n",
       "    </tr>\n",
       "  </tbody>\n",
       "</table>\n",
       "</div>"
      ],
      "text/plain": [
       "    dataset  proportion_male  proportion_female  total_male  total_female\n",
       "0     train         0.585714           0.414286          41            29\n",
       "1  validate         0.571429           0.428571          20            15\n",
       "2      test         0.600000           0.400000          21            14"
      ]
     },
     "execution_count": 4,
     "metadata": {},
     "output_type": "execute_result"
    }
   ],
   "source": [
    "#now split into sets\n",
    "train, validate, test = prepare.split_data(df)\n",
    "prepare.make_sex_distribution_df(train, validate, test)"
   ]
  },
  {
   "cell_type": "code",
   "execution_count": 5,
   "id": "80d3aed2-9584-4235-aba1-d864ea0f4598",
   "metadata": {},
   "outputs": [
    {
     "data": {
      "text/html": [
       "<div>\n",
       "<style scoped>\n",
       "    .dataframe tbody tr th:only-of-type {\n",
       "        vertical-align: middle;\n",
       "    }\n",
       "\n",
       "    .dataframe tbody tr th {\n",
       "        vertical-align: top;\n",
       "    }\n",
       "\n",
       "    .dataframe thead th {\n",
       "        text-align: right;\n",
       "    }\n",
       "</style>\n",
       "<table border=\"1\" class=\"dataframe\">\n",
       "  <thead>\n",
       "    <tr style=\"text-align: right;\">\n",
       "      <th></th>\n",
       "      <th>case</th>\n",
       "      <th>sex</th>\n",
       "      <th>total_length</th>\n",
       "      <th>body_length</th>\n",
       "      <th>tail_length</th>\n",
       "      <th>head_length</th>\n",
       "      <th>skull_width</th>\n",
       "      <th>foot_length</th>\n",
       "      <th>eye_width</th>\n",
       "      <th>chest_girth</th>\n",
       "      <th>belly_girth</th>\n",
       "      <th>ear_length</th>\n",
       "    </tr>\n",
       "  </thead>\n",
       "  <tbody>\n",
       "    <tr>\n",
       "      <th>69</th>\n",
       "      <td>70</td>\n",
       "      <td>female</td>\n",
       "      <td>870.0</td>\n",
       "      <td>398.1</td>\n",
       "      <td>380.0</td>\n",
       "      <td>91.9</td>\n",
       "      <td>56.4</td>\n",
       "      <td>65.4</td>\n",
       "      <td>13.0</td>\n",
       "      <td>270.0</td>\n",
       "      <td>340.0</td>\n",
       "      <td>44.1</td>\n",
       "    </tr>\n",
       "    <tr>\n",
       "      <th>15</th>\n",
       "      <td>16</td>\n",
       "      <td>male</td>\n",
       "      <td>860.0</td>\n",
       "      <td>423.4</td>\n",
       "      <td>345.0</td>\n",
       "      <td>91.6</td>\n",
       "      <td>56.0</td>\n",
       "      <td>73.0</td>\n",
       "      <td>14.4</td>\n",
       "      <td>280.0</td>\n",
       "      <td>320.0</td>\n",
       "      <td>51.4</td>\n",
       "    </tr>\n",
       "    <tr>\n",
       "      <th>83</th>\n",
       "      <td>84</td>\n",
       "      <td>male</td>\n",
       "      <td>805.0</td>\n",
       "      <td>356.6</td>\n",
       "      <td>360.0</td>\n",
       "      <td>88.4</td>\n",
       "      <td>54.6</td>\n",
       "      <td>62.6</td>\n",
       "      <td>16.3</td>\n",
       "      <td>250.0</td>\n",
       "      <td>285.0</td>\n",
       "      <td>43.6</td>\n",
       "    </tr>\n",
       "  </tbody>\n",
       "</table>\n",
       "</div>"
      ],
      "text/plain": [
       "    case     sex  total_length  body_length  tail_length  head_length  \\\n",
       "69    70  female         870.0        398.1        380.0         91.9   \n",
       "15    16    male         860.0        423.4        345.0         91.6   \n",
       "83    84    male         805.0        356.6        360.0         88.4   \n",
       "\n",
       "    skull_width  foot_length  eye_width  chest_girth  belly_girth  ear_length  \n",
       "69         56.4         65.4       13.0        270.0        340.0        44.1  \n",
       "15         56.0         73.0       14.4        280.0        320.0        51.4  \n",
       "83         54.6         62.6       16.3        250.0        285.0        43.6  "
      ]
     },
     "execution_count": 5,
     "metadata": {},
     "output_type": "execute_result"
    }
   ],
   "source": [
    "train.sample(3)"
   ]
  },
  {
   "cell_type": "markdown",
   "id": "b7ecaf33-2b5a-4ac5-a492-e629a4723690",
   "metadata": {},
   "source": [
    "## Improving The Nearest Centroid Classifier\n",
    "\n",
    "#### Key Takeaways\n",
    "- The original model has high variance.\n",
    "- Reducing features significantly improves the model's performance on unseen data\n",
    "\n",
    "The worst performing model was the Nearest Centroid Classifier model.  It was more accurate than baseline; however, it was only beating baseline by about 2 points."
   ]
  },
  {
   "cell_type": "code",
   "execution_count": 6,
   "id": "c8cf3c24-5936-47fa-a8fb-f8f7e80f61f9",
   "metadata": {},
   "outputs": [
    {
     "data": {
      "text/plain": [
       "array([[-0.6915904 , -0.30548655, -0.91278063,  0.12079368,  3.61801315,\n",
       "        -0.63145449, -0.51390641,  0.72124787, -0.27531743, -0.93083938],\n",
       "       [ 0.52783852,  0.27135948,  0.52845194,  0.6200148 , -0.22495419,\n",
       "         1.23590706,  0.41086091, -0.07174717,  1.22155403,  1.04736874],\n",
       "       [ 1.25949587,  0.59426785,  1.72947909, -1.03365516, -0.25619782,\n",
       "        -0.63145449, -0.51390641, -0.07174717, -0.46242636, -1.12621795]])"
      ]
     },
     "execution_count": 6,
     "metadata": {},
     "output_type": "execute_result"
    }
   ],
   "source": [
    "#and make X and y\n",
    "col_to_scale = train.select_dtypes(include='float').columns.tolist()\n",
    "X, y, X_val, y_val = model_target_sex.make_X_and_y(train, validate, col_to_scale)\n",
    "X[:3]"
   ]
  },
  {
   "cell_type": "code",
   "execution_count": 7,
   "id": "1b385b62-1db7-4145-b4da-aa00c587c498",
   "metadata": {},
   "outputs": [
    {
     "name": "stderr",
     "output_type": "stream",
     "text": [
      "/Users/stephenfitzsimon/codeup-data-science/possum-regression/model_target_sex.py:215: SettingWithCopyWarning: \n",
      "A value is trying to be set on a copy of a slice from a DataFrame.\n",
      "Try using .loc[row_indexer,col_indexer] = value instead\n",
      "\n",
      "See the caveats in the documentation: https://pandas.pydata.org/pandas-docs/stable/user_guide/indexing.html#returning-a-view-versus-a-copy\n",
      "  y_train['predicted'] = nc.predict(X_train)\n",
      "/Users/stephenfitzsimon/codeup-data-science/possum-regression/model_target_sex.py:216: SettingWithCopyWarning: \n",
      "A value is trying to be set on a copy of a slice from a DataFrame.\n",
      "Try using .loc[row_indexer,col_indexer] = value instead\n",
      "\n",
      "See the caveats in the documentation: https://pandas.pydata.org/pandas-docs/stable/user_guide/indexing.html#returning-a-view-versus-a-copy\n",
      "  y_val['predicted'] = nc.predict(X_val)\n"
     ]
    },
    {
     "data": {
      "text/html": [
       "<div>\n",
       "<style scoped>\n",
       "    .dataframe tbody tr th:only-of-type {\n",
       "        vertical-align: middle;\n",
       "    }\n",
       "\n",
       "    .dataframe tbody tr th {\n",
       "        vertical-align: top;\n",
       "    }\n",
       "\n",
       "    .dataframe thead th {\n",
       "        text-align: right;\n",
       "    }\n",
       "</style>\n",
       "<table border=\"1\" class=\"dataframe\">\n",
       "  <thead>\n",
       "    <tr style=\"text-align: right;\">\n",
       "      <th></th>\n",
       "      <th>model</th>\n",
       "      <th>train_accuracy</th>\n",
       "      <th>validate_accuracy</th>\n",
       "      <th>accuracy_change</th>\n",
       "      <th>better_than_baseline</th>\n",
       "    </tr>\n",
       "  </thead>\n",
       "  <tbody>\n",
       "    <tr>\n",
       "      <th>0</th>\n",
       "      <td>Nearest Centroid Classification</td>\n",
       "      <td>0.671429</td>\n",
       "      <td>0.6</td>\n",
       "      <td>0.071429</td>\n",
       "      <td>True</td>\n",
       "    </tr>\n",
       "  </tbody>\n",
       "</table>\n",
       "</div>"
      ],
      "text/plain": [
       "                             model  train_accuracy  validate_accuracy  \\\n",
       "0  Nearest Centroid Classification        0.671429                0.6   \n",
       "\n",
       "   accuracy_change  better_than_baseline  \n",
       "0         0.071429                  True  "
      ]
     },
     "execution_count": 7,
     "metadata": {},
     "output_type": "execute_result"
    }
   ],
   "source": [
    "#the worst performing model was the nearest centroid classifier\n",
    "orig_model = model_target_sex.make_nearest_centroid_model(X, y, X_val, y_val, baseline_acc = 0.58)\n",
    "pd.DataFrame([orig_model])"
   ]
  },
  {
   "cell_type": "markdown",
   "id": "c6463dd8-32f4-4fac-b6f1-44d1358096c5",
   "metadata": {
    "tags": []
   },
   "source": [
    "### Using a pipeline on the nearest centroid model\n",
    "\n",
    "Only a train and test dataset are used; therefore, the original data is re-split to combine the size of the validate and train.  This means that the test data represents 0.15 of the total data.  Although this makes the model comparison between the original model and the new models more subjective, the point of the excercise is to explore model building, not necessarily improve the model."
   ]
  },
  {
   "cell_type": "code",
   "execution_count": 8,
   "id": "02acb420-98fe-4427-8b7b-54b34c3dde1e",
   "metadata": {},
   "outputs": [
    {
     "data": {
      "text/plain": [
       "Pipeline(steps=[('standardscaler', StandardScaler()),\n",
       "                ('nearestcentroid', NearestCentroid())])"
      ]
     },
     "execution_count": 8,
     "metadata": {},
     "output_type": "execute_result"
    }
   ],
   "source": [
    "train, test = train_test_split(df, test_size = 0.15, stratify = df[['sex']], random_state = RANDOM_SEED)\n",
    "\n",
    "#make the X and y again\n",
    "X = train[MODEL_COLUMNS]\n",
    "y = train['sex']\n",
    "X_test = test[MODEL_COLUMNS]\n",
    "y_test = test['sex']\n",
    "\n",
    "pipe_nc = make_pipeline(StandardScaler(), neigh.NearestCentroid())\n",
    "pipe_nc.fit(X, y)"
   ]
  },
  {
   "cell_type": "markdown",
   "id": "47ebc5f6-e783-4ce7-ae6e-5d403e13a418",
   "metadata": {},
   "source": [
    "Note that there is a high drop off in the accuracy.  This indicates high variance/overfitting"
   ]
  },
  {
   "cell_type": "code",
   "execution_count": 9,
   "id": "3e14cccf-5cc9-4bea-9d6c-a3a00e3df63a",
   "metadata": {},
   "outputs": [
    {
     "name": "stdout",
     "output_type": "stream",
     "text": [
      "Train accuracy: 0.6823529411764706\n",
      "Test accuracy: 0.4375\n"
     ]
    }
   ],
   "source": [
    "y_pred = pipe_nc.predict(X)\n",
    "print(f'Train accuracy: {pipe_nc.score(X, y)}')\n",
    "print(f'Test accuracy: {pipe_nc.score(X_test, y_test)}')"
   ]
  },
  {
   "cell_type": "markdown",
   "id": "cb829382-e929-489e-88a7-599cd0ede5c7",
   "metadata": {},
   "source": [
    "### Using random forests to assess feature importance\n",
    "\n",
    "The nearest centroid classifier cannot be regularized; therefore, use a random forest to extract the most important features in order to attempt to reduce the variance."
   ]
  },
  {
   "cell_type": "code",
   "execution_count": 10,
   "id": "f456b1a7-cdd8-4bbf-9adf-5eb8552c80ea",
   "metadata": {},
   "outputs": [
    {
     "name": "stdout",
     "output_type": "stream",
     "text": [
      "0 total_length - 0.1345654110699876\n",
      "1 body_length - 0.12851492874873754\n",
      "2 tail_length - 0.12496915756449375\n",
      "3 head_length - 0.11225451446670975\n",
      "4 skull_width - 0.10962931336950105\n",
      "5 foot_length - 0.09313321532988027\n",
      "6 eye_width - 0.09058792904149335\n",
      "7 chest_girth - 0.0807759898900699\n",
      "8 belly_girth - 0.06436621449659412\n",
      "9 ear_length - 0.0612033260225326\n"
     ]
    }
   ],
   "source": [
    "feat_labels = df.columns[2:] #extract the model features\n",
    "#make and fit a random forest\n",
    "forest = RandomForestClassifier(random_state = RANDOM_SEED)\n",
    "forest.fit(X, y)\n",
    "#get feature importance\n",
    "importance = forest.feature_importances_\n",
    "indices = np.argsort(importance)[::-1] #argsort gives the indices of the sorted array\n",
    "for f in range(X.shape[1]):\n",
    "    print(f'{f} {feat_labels[f]} - {importance[indices[f]]}')"
   ]
  },
  {
   "cell_type": "markdown",
   "id": "b1b0dd60-a829-4994-aa9a-c099c0802928",
   "metadata": {},
   "source": [
    "When fit to data, the model peaks at an accuracy of 0.62 for unseen data using 7 features. This is a significant improvement over the original model accuracy using all of the features."
   ]
  },
  {
   "cell_type": "code",
   "execution_count": 11,
   "id": "f286685c-f657-41e3-8e2e-42fef2e0922f",
   "metadata": {},
   "outputs": [
    {
     "data": {
      "text/html": [
       "<div>\n",
       "<style scoped>\n",
       "    .dataframe tbody tr th:only-of-type {\n",
       "        vertical-align: middle;\n",
       "    }\n",
       "\n",
       "    .dataframe tbody tr th {\n",
       "        vertical-align: top;\n",
       "    }\n",
       "\n",
       "    .dataframe thead th {\n",
       "        text-align: right;\n",
       "    }\n",
       "</style>\n",
       "<table border=\"1\" class=\"dataframe\">\n",
       "  <thead>\n",
       "    <tr style=\"text-align: right;\">\n",
       "      <th></th>\n",
       "      <th>num_features</th>\n",
       "      <th>train_accuracy</th>\n",
       "      <th>test_accuracy</th>\n",
       "    </tr>\n",
       "  </thead>\n",
       "  <tbody>\n",
       "    <tr>\n",
       "      <th>0</th>\n",
       "      <td>1</td>\n",
       "      <td>0.600000</td>\n",
       "      <td>0.5000</td>\n",
       "    </tr>\n",
       "    <tr>\n",
       "      <th>1</th>\n",
       "      <td>2</td>\n",
       "      <td>0.564706</td>\n",
       "      <td>0.3750</td>\n",
       "    </tr>\n",
       "    <tr>\n",
       "      <th>2</th>\n",
       "      <td>3</td>\n",
       "      <td>0.588235</td>\n",
       "      <td>0.3750</td>\n",
       "    </tr>\n",
       "    <tr>\n",
       "      <th>3</th>\n",
       "      <td>4</td>\n",
       "      <td>0.647059</td>\n",
       "      <td>0.5000</td>\n",
       "    </tr>\n",
       "    <tr>\n",
       "      <th>4</th>\n",
       "      <td>5</td>\n",
       "      <td>0.600000</td>\n",
       "      <td>0.5625</td>\n",
       "    </tr>\n",
       "    <tr>\n",
       "      <th>5</th>\n",
       "      <td>6</td>\n",
       "      <td>0.635294</td>\n",
       "      <td>0.5625</td>\n",
       "    </tr>\n",
       "    <tr>\n",
       "      <th>6</th>\n",
       "      <td>7</td>\n",
       "      <td>0.694118</td>\n",
       "      <td>0.6250</td>\n",
       "    </tr>\n",
       "    <tr>\n",
       "      <th>7</th>\n",
       "      <td>8</td>\n",
       "      <td>0.694118</td>\n",
       "      <td>0.6250</td>\n",
       "    </tr>\n",
       "    <tr>\n",
       "      <th>8</th>\n",
       "      <td>9</td>\n",
       "      <td>0.682353</td>\n",
       "      <td>0.5625</td>\n",
       "    </tr>\n",
       "    <tr>\n",
       "      <th>9</th>\n",
       "      <td>10</td>\n",
       "      <td>0.682353</td>\n",
       "      <td>0.4375</td>\n",
       "    </tr>\n",
       "  </tbody>\n",
       "</table>\n",
       "</div>"
      ],
      "text/plain": [
       "   num_features  train_accuracy  test_accuracy\n",
       "0             1        0.600000         0.5000\n",
       "1             2        0.564706         0.3750\n",
       "2             3        0.588235         0.3750\n",
       "3             4        0.647059         0.5000\n",
       "4             5        0.600000         0.5625\n",
       "5             6        0.635294         0.5625\n",
       "6             7        0.694118         0.6250\n",
       "7             8        0.694118         0.6250\n",
       "8             9        0.682353         0.5625\n",
       "9            10        0.682353         0.4375"
      ]
     },
     "execution_count": 11,
     "metadata": {},
     "output_type": "execute_result"
    }
   ],
   "source": [
    "#get a list of these features\n",
    "outputs = list()\n",
    "for i in range(1, indices.shape[0]+1):\n",
    "    X_feat_extracted = X.iloc[:, [x for x in indices if x < i]]\n",
    "    X_test_feat_extracted = X_test.iloc[:, [x for x in indices if x < i]]\n",
    "\n",
    "    pipe_nc.fit(X_feat_extracted, y)\n",
    "    y_pred = pipe_nc.predict(X_feat_extracted)\n",
    "    output = {\n",
    "        'num_features': i,\n",
    "        'train_accuracy':pipe_nc.score(X_feat_extracted, y),\n",
    "        'test_accuracy':pipe_nc.score(X_test_feat_extracted, y_test)\n",
    "    }\n",
    "    outputs.append(output)\n",
    "pd.DataFrame(outputs)"
   ]
  },
  {
   "cell_type": "markdown",
   "id": "09c50c91-d496-4226-a6b8-2e94beb89bb6",
   "metadata": {},
   "source": [
    "## Improving the Logistic Regression model\n",
    "\n",
    "The previous logistic regression model had an accuracy 0.77.  Assess a basic model using k-fold validation.\n",
    "\n",
    "There is high variance in the model seen by the drop off in accuracy on unseen data."
   ]
  },
  {
   "cell_type": "code",
   "execution_count": 12,
   "id": "55285268-20f0-41ec-99c2-02e2323205d6",
   "metadata": {},
   "outputs": [],
   "source": [
    "df = acquire.make_dataset()\n",
    "df = model_target_sex.make_modeling_columns(df)\n",
    "df = df[['case', 'sex'] + MODEL_COLUMNS]"
   ]
  },
  {
   "cell_type": "code",
   "execution_count": 14,
   "id": "b03232ab-16cd-47cd-beac-0e100aaffbab",
   "metadata": {},
   "outputs": [],
   "source": [
    "#make a pipeline with logisticregression model\n",
    "pipe_lr = make_pipeline(StandardScaler(), LogisticRegression())\n",
    "\n",
    "#make the k-fold\n",
    "k_fold = StratifiedKFold(n_splits = 10)\n",
    "outputs = []"
   ]
  },
  {
   "cell_type": "code",
   "execution_count": 15,
   "id": "3c971775-80e2-4af5-a60c-e247eef6b3c4",
   "metadata": {},
   "outputs": [
    {
     "data": {
      "text/html": [
       "<div>\n",
       "<style scoped>\n",
       "    .dataframe tbody tr th:only-of-type {\n",
       "        vertical-align: middle;\n",
       "    }\n",
       "\n",
       "    .dataframe tbody tr th {\n",
       "        vertical-align: top;\n",
       "    }\n",
       "\n",
       "    .dataframe thead th {\n",
       "        text-align: right;\n",
       "    }\n",
       "</style>\n",
       "<table border=\"1\" class=\"dataframe\">\n",
       "  <thead>\n",
       "    <tr style=\"text-align: right;\">\n",
       "      <th></th>\n",
       "      <th>train_accuracy</th>\n",
       "      <th>test_accuracy</th>\n",
       "    </tr>\n",
       "  </thead>\n",
       "  <tbody>\n",
       "    <tr>\n",
       "      <th>0</th>\n",
       "      <td>0.677778</td>\n",
       "      <td>0.636364</td>\n",
       "    </tr>\n",
       "    <tr>\n",
       "      <th>1</th>\n",
       "      <td>0.692308</td>\n",
       "      <td>0.700000</td>\n",
       "    </tr>\n",
       "    <tr>\n",
       "      <th>2</th>\n",
       "      <td>0.670330</td>\n",
       "      <td>0.600000</td>\n",
       "    </tr>\n",
       "    <tr>\n",
       "      <th>3</th>\n",
       "      <td>0.692308</td>\n",
       "      <td>0.600000</td>\n",
       "    </tr>\n",
       "    <tr>\n",
       "      <th>4</th>\n",
       "      <td>0.714286</td>\n",
       "      <td>0.500000</td>\n",
       "    </tr>\n",
       "    <tr>\n",
       "      <th>5</th>\n",
       "      <td>0.692308</td>\n",
       "      <td>0.600000</td>\n",
       "    </tr>\n",
       "    <tr>\n",
       "      <th>6</th>\n",
       "      <td>0.703297</td>\n",
       "      <td>0.500000</td>\n",
       "    </tr>\n",
       "    <tr>\n",
       "      <th>7</th>\n",
       "      <td>0.714286</td>\n",
       "      <td>0.600000</td>\n",
       "    </tr>\n",
       "    <tr>\n",
       "      <th>8</th>\n",
       "      <td>0.692308</td>\n",
       "      <td>0.700000</td>\n",
       "    </tr>\n",
       "    <tr>\n",
       "      <th>9</th>\n",
       "      <td>0.714286</td>\n",
       "      <td>0.600000</td>\n",
       "    </tr>\n",
       "  </tbody>\n",
       "</table>\n",
       "</div>"
      ],
      "text/plain": [
       "   train_accuracy  test_accuracy\n",
       "0        0.677778       0.636364\n",
       "1        0.692308       0.700000\n",
       "2        0.670330       0.600000\n",
       "3        0.692308       0.600000\n",
       "4        0.714286       0.500000\n",
       "5        0.692308       0.600000\n",
       "6        0.703297       0.500000\n",
       "7        0.714286       0.600000\n",
       "8        0.692308       0.700000\n",
       "9        0.714286       0.600000"
      ]
     },
     "execution_count": 15,
     "metadata": {},
     "output_type": "execute_result"
    }
   ],
   "source": [
    "for train_idx, test_idx in k_fold.split(df, df.loc[:, 'sex']):\n",
    "    cols = df.columns.tolist()\n",
    "    X = cols[2:]\n",
    "    y = cols[1]\n",
    "    train = df.iloc[train_idx, :]\n",
    "    X_train = train.loc[:, X]\n",
    "    y_train = train.loc[:, y]\n",
    "    test = df.iloc[test_idx, :]\n",
    "    X_test = test.loc[:, X]\n",
    "    y_test = test.loc[:, y]\n",
    "    pipe_lr.fit(X_train, y_train)\n",
    "    output = {\n",
    "        'train_accuracy': pipe_lr.score(X_train, y_train),\n",
    "        'test_accuracy': pipe_lr.score(X_test, y_test)\n",
    "    }\n",
    "    outputs.append(output)\n",
    "    \n",
    "pd.DataFrame(outputs)"
   ]
  },
  {
   "cell_type": "code",
   "execution_count": null,
   "id": "39b6e810-60cf-493a-96f3-8f3aabd350c7",
   "metadata": {},
   "outputs": [],
   "source": [
    "df"
   ]
  },
  {
   "cell_type": "code",
   "execution_count": null,
   "id": "2e018e79-1fdf-4709-b4ca-aaabd7ade4d2",
   "metadata": {},
   "outputs": [],
   "source": []
  },
  {
   "cell_type": "code",
   "execution_count": null,
   "id": "4ac64a6d-e670-4cb5-ac3f-3cc39df71c5e",
   "metadata": {},
   "outputs": [],
   "source": []
  }
 ],
 "metadata": {
  "kernelspec": {
   "display_name": "Python 3 (ipykernel)",
   "language": "python",
   "name": "python3"
  },
  "language_info": {
   "codemirror_mode": {
    "name": "ipython",
    "version": 3
   },
   "file_extension": ".py",
   "mimetype": "text/x-python",
   "name": "python",
   "nbconvert_exporter": "python",
   "pygments_lexer": "ipython3",
   "version": "3.9.12"
  }
 },
 "nbformat": 4,
 "nbformat_minor": 5
}
