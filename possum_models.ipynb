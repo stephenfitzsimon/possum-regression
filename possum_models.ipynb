{
 "cells": [
  {
   "cell_type": "markdown",
   "id": "ccecf10a-fa5e-4537-9eed-55987a328096",
   "metadata": {},
   "source": [
    "# Building a Possum Regression and Classification Model\n",
    "*By Stephen FitzSimon*"
   ]
  },
  {
   "cell_type": "code",
   "execution_count": 1,
   "id": "e22318d0-394f-4867-b1f4-688eeee429ed",
   "metadata": {},
   "outputs": [],
   "source": [
    "import pandas as pd\n",
    "import acquire"
   ]
  },
  {
   "cell_type": "markdown",
   "id": "bf79e5fe-47ce-44dd-b770-58bcd377e5be",
   "metadata": {},
   "source": [
    "\n",
    "\n",
    "## Contents <a name='contents'></a>\n",
    "\n",
    "1. <a href='#introduction'>Introduction</a>\n",
    "2. <a href='#acquire'>Acquire the Data</a>\n",
    "3. <a href='#explore'>Explore the Data</a>\n",
    "4. <a href='#model'>Model the Data</a>\n",
    "5. <a href='#conclusion'>Conclusion</a>\n",
    "\n",
    "<img src='https://upload.wikimedia.org/wikipedia/commons/e/e9/Trichosurus_caninus_Gould.jpg'></img>\n",
    "\n",
    "## Introduction <a name='introduction'></a>\n",
    "\n",
    "1. <a href='#sources'>Sources</a>\n",
    "2. <a href='#about_data'>About The Data</a>\n",
    "\n",
    "The Bushtail possum is a native Australian possum found along the East coast of the continent.  The following data was collected in 1995 by Lindenmayer; at this point in time it was classified with the cloesly related <a href='https://en.wikipedia.org/wiki/Mountain_brushtail_possum'>Mountain Brushtail Possum (*Trichosurus cunninghami*)</a>.  As a member of the Trichosurus tribe, they are considered more at home on the ground than other members of the Phalangeridae family, yet they remain predominately leaf eaters.\n",
    "\n",
    "The goal of this project is to explore the anatomical characteristics of the species and develop a linear regression model to predict an individual's age, and a classification model to predict an individual's sex. \n",
    "\n",
    "#### More Information On The Species and The Phalangeridae Family\n",
    "\n",
    "- <a href='https://en.wikipedia.org/wiki/Short-eared_possum'>Species information on Wikipedia</a>\n",
    "\n",
    "- <a href='https://en.wikipedia.org/wiki/Mountain_brushtail_possum'>Wikipedia informaton on the closely related Mountain brushtail possum</a> (note: before 2002 the two species were thought to be a single species)\n",
    "\n",
    "- <a href='https://en.wikipedia.org/wiki/Phalangeridae'>Wikipedia information on the Phalangeridae family</a>\n",
    "\n",
    "- <a href='https://www.theage.com.au/national/a-tail-of-two-possums-20041203-gdz4bq.html'>A tail of two possums - The Age (Melbourne)</a>\n",
    "\n",
    "- <a href='https://www.iucnredlist.org/species/40557/21951945'>Conservation information at Red List</a>\n",
    "\n",
    "- <a href='https://www.departments.bucknell.edu/biology/resources/msw3/browse.asp?s=y&id=11000086'>Entry at Mammal Species of the World</a>\n",
    "\n",
    "- <a href='https://www.youtube.com/watch?v=Cwg2rTorJWc'>Video by Brave Wilderness on the Related Bushtail Possum</a>\n",
    "\n",
    "### Sources <a name='sources'></a>\n",
    "\n",
    "*Original Paper*\n",
    "\n",
    "Lindenmayer DB , Viggers KL , Cunningham RB Donnelly CF (1995) Morphological Variation Among Populations of the Mountain Brushtail Possum, Trichosurus-Caninus Ogilby (Phalangeridae, Marsupialia). *Australian Journal of Zoology* 43, 449-458. https://doi.org/10.1071/ZO9950449\n",
    "\n",
    "*Kaggle Dataset*\n",
    "\n",
    "https://www.kaggle.com/datasets/abrambeyer/openintro-possum\n",
    "\n",
    "### About the Data <a name='#about_data'></a>\n",
    "\n",
    "*Note: original column names can be found on the kaggle page for the data.  The column names made in the `acquire.py` module are used for the data dictionary.  The information to clean up the data can be found either in the original paper by Lindenmayer or from the documentation on the <a href='https://cran.r-project.org/web/packages/DAAG/index.html'>DAAG dataset on CRAN</a>*\n",
    "\n",
    "- `case` : observation/identification number of individual\n",
    "- `trap_site` : the id number of the site where the individual was trapped; they are as follows:\n",
    "    - Cambarville, Victoria\n",
    "    - Bellbird, Victoria\n",
    "    - Whian Whian State Forest, NSW\n",
    "    - Byrangery Reserve, NSW\n",
    "    - Conondale Ranges, Queensland\n",
    "    - Bulburin State Forest, Queensland\n",
    "    - Allyn River Forest Park, NSW\n",
    "- `state` : the Australian state of the `trap_site` location \n",
    "- `sex` : the sex of the individual\n",
    "- `age` : the age of the individual in years, determined by tooth wear (Lindenmayer)\n",
    "- `head_length` : length of the head from the nose tip to the external occipital protuberance in mm\n",
    "- `skull_width` : the width of the skull at the widest part in mm\n",
    "- `total_length` : length of the body from the nose tip to the tain end in mm\n",
    "- `tail_length` : length from tail base to tail tip in mm\n",
    "- `foot_length` : length from heel to longest toe's tip in mm\n",
    "- `ear_length` : length from the base of the ear to the tip of the ear\n",
    "- `eye_width` : the width of the eye from medial to lateral canthus\n",
    "- `chest_girth` : girth behind the forelimbs in mm\n",
    "- `belly_girth` : girth behind the last rib in mm\n",
    "\n",
    "<a href='#contents'>Back to Contents</a>\n",
    "\n",
    "## Acquire The Data <a name='acquire'></a>"
   ]
  },
  {
   "cell_type": "code",
   "execution_count": 2,
   "id": "c41befc7-e07b-4ba5-b091-e18ab88e374f",
   "metadata": {},
   "outputs": [],
   "source": [
    "df = acquire.make_dataset()"
   ]
  },
  {
   "cell_type": "code",
   "execution_count": 3,
   "id": "4bae8440-0662-44c3-a826-6e905b5be0f1",
   "metadata": {},
   "outputs": [
    {
     "name": "stdout",
     "output_type": "stream",
     "text": [
      "<class 'pandas.core.frame.DataFrame'>\n",
      "RangeIndex: 104 entries, 0 to 103\n",
      "Data columns (total 14 columns):\n",
      " #   Column        Non-Null Count  Dtype  \n",
      "---  ------        --------------  -----  \n",
      " 0   case          104 non-null    int64  \n",
      " 1   trap_site     104 non-null    object \n",
      " 2   state         104 non-null    object \n",
      " 3   sex           104 non-null    object \n",
      " 4   age           102 non-null    float64\n",
      " 5   head_length   104 non-null    float64\n",
      " 6   skull_width   104 non-null    float64\n",
      " 7   total_length  104 non-null    float64\n",
      " 8   tail_length   104 non-null    float64\n",
      " 9   foot_length   103 non-null    float64\n",
      " 10  ear_length    104 non-null    float64\n",
      " 11  eye_width     104 non-null    float64\n",
      " 12  chest_girth   104 non-null    float64\n",
      " 13  belly_girth   104 non-null    float64\n",
      "dtypes: float64(10), int64(1), object(3)\n",
      "memory usage: 11.5+ KB\n"
     ]
    }
   ],
   "source": [
    "df.info()"
   ]
  },
  {
   "cell_type": "code",
   "execution_count": 4,
   "id": "a228cd5f-48da-44d4-8d49-7141e336c34c",
   "metadata": {},
   "outputs": [
    {
     "data": {
      "text/plain": [
       "Victoria           46\n",
       "New South Wales    32\n",
       "Queensland         26\n",
       "Name: state, dtype: int64"
      ]
     },
     "execution_count": 4,
     "metadata": {},
     "output_type": "execute_result"
    }
   ],
   "source": [
    "df.state.value_counts(dropna=False)"
   ]
  },
  {
   "cell_type": "code",
   "execution_count": 5,
   "id": "f13a106d-9ee1-448d-a33b-db89c6bb2efd",
   "metadata": {},
   "outputs": [
    {
     "data": {
      "text/html": [
       "<div>\n",
       "<style scoped>\n",
       "    .dataframe tbody tr th:only-of-type {\n",
       "        vertical-align: middle;\n",
       "    }\n",
       "\n",
       "    .dataframe tbody tr th {\n",
       "        vertical-align: top;\n",
       "    }\n",
       "\n",
       "    .dataframe thead th {\n",
       "        text-align: right;\n",
       "    }\n",
       "</style>\n",
       "<table border=\"1\" class=\"dataframe\">\n",
       "  <thead>\n",
       "    <tr style=\"text-align: right;\">\n",
       "      <th></th>\n",
       "      <th>case</th>\n",
       "      <th>trap_site</th>\n",
       "      <th>state</th>\n",
       "      <th>sex</th>\n",
       "      <th>age</th>\n",
       "      <th>head_length</th>\n",
       "      <th>skull_width</th>\n",
       "      <th>total_length</th>\n",
       "      <th>tail_length</th>\n",
       "      <th>foot_length</th>\n",
       "      <th>ear_length</th>\n",
       "      <th>eye_width</th>\n",
       "      <th>chest_girth</th>\n",
       "      <th>belly_girth</th>\n",
       "    </tr>\n",
       "  </thead>\n",
       "  <tbody>\n",
       "    <tr>\n",
       "      <th>43</th>\n",
       "      <td>44</td>\n",
       "      <td>Bellbird</td>\n",
       "      <td>Victoria</td>\n",
       "      <td>m</td>\n",
       "      <td>NaN</td>\n",
       "      <td>85.1</td>\n",
       "      <td>51.5</td>\n",
       "      <td>760.0</td>\n",
       "      <td>355.0</td>\n",
       "      <td>70.3</td>\n",
       "      <td>52.6</td>\n",
       "      <td>14.4</td>\n",
       "      <td>230.0</td>\n",
       "      <td>270.0</td>\n",
       "    </tr>\n",
       "    <tr>\n",
       "      <th>45</th>\n",
       "      <td>46</td>\n",
       "      <td>Bellbird</td>\n",
       "      <td>Victoria</td>\n",
       "      <td>m</td>\n",
       "      <td>NaN</td>\n",
       "      <td>91.4</td>\n",
       "      <td>54.4</td>\n",
       "      <td>840.0</td>\n",
       "      <td>350.0</td>\n",
       "      <td>72.8</td>\n",
       "      <td>51.2</td>\n",
       "      <td>14.4</td>\n",
       "      <td>245.0</td>\n",
       "      <td>350.0</td>\n",
       "    </tr>\n",
       "  </tbody>\n",
       "</table>\n",
       "</div>"
      ],
      "text/plain": [
       "    case trap_site     state sex  age  head_length  skull_width  total_length  \\\n",
       "43    44  Bellbird  Victoria   m  NaN         85.1         51.5         760.0   \n",
       "45    46  Bellbird  Victoria   m  NaN         91.4         54.4         840.0   \n",
       "\n",
       "    tail_length  foot_length  ear_length  eye_width  chest_girth  belly_girth  \n",
       "43        355.0         70.3        52.6       14.4        230.0        270.0  \n",
       "45        350.0         72.8        51.2       14.4        245.0        350.0  "
      ]
     },
     "execution_count": 5,
     "metadata": {},
     "output_type": "execute_result"
    }
   ],
   "source": [
    "df[df.age.isna()]"
   ]
  },
  {
   "cell_type": "code",
   "execution_count": null,
   "id": "d406f2c9-65ba-41b3-bb2d-53d781346936",
   "metadata": {},
   "outputs": [],
   "source": []
  }
 ],
 "metadata": {
  "kernelspec": {
   "display_name": "Python 3 (ipykernel)",
   "language": "python",
   "name": "python3"
  },
  "language_info": {
   "codemirror_mode": {
    "name": "ipython",
    "version": 3
   },
   "file_extension": ".py",
   "mimetype": "text/x-python",
   "name": "python",
   "nbconvert_exporter": "python",
   "pygments_lexer": "ipython3",
   "version": "3.9.12"
  }
 },
 "nbformat": 4,
 "nbformat_minor": 5
}
